{
 "cells": [
  {
   "cell_type": "markdown",
   "metadata": {},
   "source": [
    "<img src=\"header.png\" align=\"left\"/>"
   ]
  },
  {
   "cell_type": "markdown",
   "metadata": {},
   "source": [
    "# Exercise Import of excel data and timeseries prediction (10 points)\n",
    "\n",
    "The goal of this example is to show the work with time series from Excel files and to develop a prediction model for time series. The data set describes the development of passenger numbers of an airline in the distant past. However, the data is typical for data as found in SME's (e.g. sales figures). \n",
    "\n",
    "\n",
    "The code for this example was adapted from [1]. Further information is available here [2]. \n",
    "\n",
    "- [1] [https://machinelearningmastery.com/time-series-prediction-lstm-recurrent-neural-networks-python-keras/](https://machinelearningmastery.com/time-series-prediction-lstm-recurrent-neural-networks-python-keras/)\n",
    "- [2] [https://towardsdatascience.com/predict-electricity-consumption-using-time-series-analysis-4650284e40aa](https://towardsdatascience.com/predict-electricity-consumption-using-time-series-analysis-4650284e40aa)\n",
    "\n",
    "\n",
    "Citation dataset:\n",
    "```\n",
    "Box, G. E. P., Jenkins, G. M. and Reinsel, G. C. (1976) Time Series Analysis, Forecasting and Control. Third Edition. Holden-Day. Series G.\n",
    "```\n"
   ]
  },
  {
   "cell_type": "markdown",
   "metadata": {},
   "source": [
    "# Import of modules"
   ]
  },
  {
   "cell_type": "code",
   "execution_count": 1,
   "metadata": {},
   "outputs": [
    {
     "name": "stderr",
     "output_type": "stream",
     "text": [
      "Using TensorFlow backend.\n"
     ]
    }
   ],
   "source": [
    "import os\n",
    "import openpyxl\n",
    "\n",
    "import pandas as pd\n",
    "import numpy as np\n",
    "import matplotlib.pyplot as plt\n",
    "import math\n",
    "\n",
    "from keras.models import Sequential\n",
    "from keras.layers import Dense\n",
    "from keras.layers import LSTM\n",
    "from sklearn.preprocessing import MinMaxScaler\n",
    "from sklearn.metrics import mean_squared_error\n",
    "\n",
    "plt.rcParams[\"figure.figsize\"] = (16,9)"
   ]
  },
  {
   "cell_type": "code",
   "execution_count": 2,
   "metadata": {},
   "outputs": [],
   "source": [
    "#\n",
    "# handle error messages\n",
    "#\n",
    "from warnings import simplefilter\n",
    "# ignore all future warnings\n",
    "simplefilter(action='ignore', category=FutureWarning)\n",
    "simplefilter(action='ignore', category=Warning)"
   ]
  },
  {
   "cell_type": "code",
   "execution_count": 3,
   "metadata": {},
   "outputs": [
    {
     "name": "stdout",
     "output_type": "stream",
     "text": [
      "2.0.0\n"
     ]
    }
   ],
   "source": [
    "#\n",
    "# Für GPU Support\n",
    "#\n",
    "import tensorflow as tf\n",
    "print ( tf.__version__ ) \n",
    "\n",
    "tf.compat.v1.logging.set_verbosity(tf.compat.v1.logging.ERROR )\n",
    "physical_devices = tf.config.experimental.list_physical_devices('GPU')\n",
    "if len(physical_devices) > 0:\n",
    "    tf.config.experimental.set_memory_growth(physical_devices[0], True)\n",
    "config = tf.compat.v1.ConfigProto()\n",
    "config.gpu_options.allow_growth = True\n",
    "tf.compat.v1.keras.backend.set_session(tf.compat.v1.Session(config=config))"
   ]
  },
  {
   "cell_type": "markdown",
   "metadata": {},
   "source": [
    "# Constants"
   ]
  },
  {
   "cell_type": "code",
   "execution_count": 4,
   "metadata": {},
   "outputs": [],
   "source": [
    "excelData = 'data/airline_passengers.xlsx'"
   ]
  },
  {
   "cell_type": "markdown",
   "metadata": {},
   "source": [
    "# Read the data from Excel file"
   ]
  },
  {
   "cell_type": "code",
   "execution_count": 16,
   "metadata": {},
   "outputs": [
    {
     "name": "stdout",
     "output_type": "stream",
     "text": [
      "['Tabellenblatt1']\n"
     ]
    }
   ],
   "source": [
    "data = pd.ExcelFile(excelData)\n",
    "print(data.sheet_names)"
   ]
  },
  {
   "cell_type": "code",
   "execution_count": 17,
   "metadata": {},
   "outputs": [
    {
     "data": {
      "text/html": [
       "<div>\n",
       "<style scoped>\n",
       "    .dataframe tbody tr th:only-of-type {\n",
       "        vertical-align: middle;\n",
       "    }\n",
       "\n",
       "    .dataframe tbody tr th {\n",
       "        vertical-align: top;\n",
       "    }\n",
       "\n",
       "    .dataframe thead th {\n",
       "        text-align: right;\n",
       "    }\n",
       "</style>\n",
       "<table border=\"1\" class=\"dataframe\">\n",
       "  <thead>\n",
       "    <tr style=\"text-align: right;\">\n",
       "      <th></th>\n",
       "      <th>Unnamed: 0</th>\n",
       "      <th>Unnamed: 1</th>\n",
       "      <th>Unnamed: 2</th>\n",
       "    </tr>\n",
       "  </thead>\n",
       "  <tbody>\n",
       "    <tr>\n",
       "      <th>0</th>\n",
       "      <td>NaN</td>\n",
       "      <td>NaN</td>\n",
       "      <td>NaN</td>\n",
       "    </tr>\n",
       "    <tr>\n",
       "      <th>1</th>\n",
       "      <td>NaN</td>\n",
       "      <td>NaN</td>\n",
       "      <td>NaN</td>\n",
       "    </tr>\n",
       "    <tr>\n",
       "      <th>2</th>\n",
       "      <td>NaN</td>\n",
       "      <td>Month</td>\n",
       "      <td>Passengers</td>\n",
       "    </tr>\n",
       "    <tr>\n",
       "      <th>3</th>\n",
       "      <td>NaN</td>\n",
       "      <td>1949-01-01 00:00:00</td>\n",
       "      <td>112</td>\n",
       "    </tr>\n",
       "    <tr>\n",
       "      <th>4</th>\n",
       "      <td>NaN</td>\n",
       "      <td>1949-02-01 00:00:00</td>\n",
       "      <td>118</td>\n",
       "    </tr>\n",
       "    <tr>\n",
       "      <th>5</th>\n",
       "      <td>NaN</td>\n",
       "      <td>1949-03-01 00:00:00</td>\n",
       "      <td>132</td>\n",
       "    </tr>\n",
       "    <tr>\n",
       "      <th>6</th>\n",
       "      <td>NaN</td>\n",
       "      <td>1949-04-01 00:00:00</td>\n",
       "      <td>129</td>\n",
       "    </tr>\n",
       "    <tr>\n",
       "      <th>7</th>\n",
       "      <td>NaN</td>\n",
       "      <td>1949-05-01 00:00:00</td>\n",
       "      <td>121</td>\n",
       "    </tr>\n",
       "    <tr>\n",
       "      <th>8</th>\n",
       "      <td>NaN</td>\n",
       "      <td>1949-06-01 00:00:00</td>\n",
       "      <td>135</td>\n",
       "    </tr>\n",
       "    <tr>\n",
       "      <th>9</th>\n",
       "      <td>NaN</td>\n",
       "      <td>1949-07-01 00:00:00</td>\n",
       "      <td>148</td>\n",
       "    </tr>\n",
       "  </tbody>\n",
       "</table>\n",
       "</div>"
      ],
      "text/plain": [
       "   Unnamed: 0           Unnamed: 1  Unnamed: 2\n",
       "0         NaN                  NaN         NaN\n",
       "1         NaN                  NaN         NaN\n",
       "2         NaN                Month  Passengers\n",
       "3         NaN  1949-01-01 00:00:00         112\n",
       "4         NaN  1949-02-01 00:00:00         118\n",
       "5         NaN  1949-03-01 00:00:00         132\n",
       "6         NaN  1949-04-01 00:00:00         129\n",
       "7         NaN  1949-05-01 00:00:00         121\n",
       "8         NaN  1949-06-01 00:00:00         135\n",
       "9         NaN  1949-07-01 00:00:00         148"
      ]
     },
     "execution_count": 17,
     "metadata": {},
     "output_type": "execute_result"
    }
   ],
   "source": [
    "#\n",
    "# read one table\n",
    "#\n",
    "df = data.parse('Tabellenblatt1')\n",
    "df.info\n",
    "df.head(10)"
   ]
  },
  {
   "cell_type": "code",
   "execution_count": 18,
   "metadata": {},
   "outputs": [
    {
     "data": {
      "text/html": [
       "<div>\n",
       "<style scoped>\n",
       "    .dataframe tbody tr th:only-of-type {\n",
       "        vertical-align: middle;\n",
       "    }\n",
       "\n",
       "    .dataframe tbody tr th {\n",
       "        vertical-align: top;\n",
       "    }\n",
       "\n",
       "    .dataframe thead th {\n",
       "        text-align: right;\n",
       "    }\n",
       "</style>\n",
       "<table border=\"1\" class=\"dataframe\">\n",
       "  <thead>\n",
       "    <tr style=\"text-align: right;\">\n",
       "      <th></th>\n",
       "      <th>Unnamed: 0</th>\n",
       "      <th>Unnamed: 1</th>\n",
       "      <th>Unnamed: 2</th>\n",
       "    </tr>\n",
       "  </thead>\n",
       "  <tbody>\n",
       "    <tr>\n",
       "      <th>142</th>\n",
       "      <td>NaN</td>\n",
       "      <td>1960-08-01 00:00:00</td>\n",
       "      <td>606</td>\n",
       "    </tr>\n",
       "    <tr>\n",
       "      <th>143</th>\n",
       "      <td>NaN</td>\n",
       "      <td>1960-09-01 00:00:00</td>\n",
       "      <td>508</td>\n",
       "    </tr>\n",
       "    <tr>\n",
       "      <th>144</th>\n",
       "      <td>NaN</td>\n",
       "      <td>1960-10-01 00:00:00</td>\n",
       "      <td>461</td>\n",
       "    </tr>\n",
       "    <tr>\n",
       "      <th>145</th>\n",
       "      <td>NaN</td>\n",
       "      <td>1960-11-01 00:00:00</td>\n",
       "      <td>390</td>\n",
       "    </tr>\n",
       "    <tr>\n",
       "      <th>146</th>\n",
       "      <td>NaN</td>\n",
       "      <td>1960-12-01 00:00:00</td>\n",
       "      <td>432</td>\n",
       "    </tr>\n",
       "  </tbody>\n",
       "</table>\n",
       "</div>"
      ],
      "text/plain": [
       "     Unnamed: 0           Unnamed: 1 Unnamed: 2\n",
       "142         NaN  1960-08-01 00:00:00        606\n",
       "143         NaN  1960-09-01 00:00:00        508\n",
       "144         NaN  1960-10-01 00:00:00        461\n",
       "145         NaN  1960-11-01 00:00:00        390\n",
       "146         NaN  1960-12-01 00:00:00        432"
      ]
     },
     "execution_count": 18,
     "metadata": {},
     "output_type": "execute_result"
    }
   ],
   "source": [
    "df.tail()"
   ]
  },
  {
   "cell_type": "markdown",
   "metadata": {},
   "source": [
    "# Cut out data from pandas dataframes\n",
    "\n",
    "Tutorial: [https://www.shanelynn.ie/select-pandas-dataframe-rows-and-columns-using-iloc-loc-and-ix/](https://www.shanelynn.ie/select-pandas-dataframe-rows-and-columns-using-iloc-loc-and-ix/)\n",
    "\n",
    "<img src=\"info.png\" align=\"left\"/> "
   ]
  },
  {
   "cell_type": "code",
   "execution_count": 36,
   "metadata": {},
   "outputs": [],
   "source": [
    "#\n",
    "# cut out data\n",
    "#\n",
    "# Task: cut out the data from the dataframe using the iloc function described above to have \n",
    "# only relevant data left (timestamp and passenger number, no NaNs) (2 points)\n",
    "#\n",
    "\n",
    "df_cut = df.iloc[3:,1:]\n",
    "df_cut = df_cut.reset_index(drop=True)"
   ]
  },
  {
   "cell_type": "code",
   "execution_count": 37,
   "metadata": {},
   "outputs": [
    {
     "data": {
      "text/html": [
       "<div>\n",
       "<style scoped>\n",
       "    .dataframe tbody tr th:only-of-type {\n",
       "        vertical-align: middle;\n",
       "    }\n",
       "\n",
       "    .dataframe tbody tr th {\n",
       "        vertical-align: top;\n",
       "    }\n",
       "\n",
       "    .dataframe thead th {\n",
       "        text-align: right;\n",
       "    }\n",
       "</style>\n",
       "<table border=\"1\" class=\"dataframe\">\n",
       "  <thead>\n",
       "    <tr style=\"text-align: right;\">\n",
       "      <th></th>\n",
       "      <th>Unnamed: 1</th>\n",
       "      <th>Unnamed: 2</th>\n",
       "    </tr>\n",
       "  </thead>\n",
       "  <tbody>\n",
       "    <tr>\n",
       "      <th>0</th>\n",
       "      <td>1949-01-01 00:00:00</td>\n",
       "      <td>112</td>\n",
       "    </tr>\n",
       "    <tr>\n",
       "      <th>1</th>\n",
       "      <td>1949-02-01 00:00:00</td>\n",
       "      <td>118</td>\n",
       "    </tr>\n",
       "    <tr>\n",
       "      <th>2</th>\n",
       "      <td>1949-03-01 00:00:00</td>\n",
       "      <td>132</td>\n",
       "    </tr>\n",
       "    <tr>\n",
       "      <th>3</th>\n",
       "      <td>1949-04-01 00:00:00</td>\n",
       "      <td>129</td>\n",
       "    </tr>\n",
       "    <tr>\n",
       "      <th>4</th>\n",
       "      <td>1949-05-01 00:00:00</td>\n",
       "      <td>121</td>\n",
       "    </tr>\n",
       "  </tbody>\n",
       "</table>\n",
       "</div>"
      ],
      "text/plain": [
       "            Unnamed: 1 Unnamed: 2\n",
       "0  1949-01-01 00:00:00        112\n",
       "1  1949-02-01 00:00:00        118\n",
       "2  1949-03-01 00:00:00        132\n",
       "3  1949-04-01 00:00:00        129\n",
       "4  1949-05-01 00:00:00        121"
      ]
     },
     "execution_count": 37,
     "metadata": {},
     "output_type": "execute_result"
    }
   ],
   "source": [
    "df_cut.head()"
   ]
  },
  {
   "cell_type": "code",
   "execution_count": 38,
   "metadata": {},
   "outputs": [],
   "source": [
    "# rename columns to fixed names\n",
    "df_cut.columns = ['month','passengers']"
   ]
  },
  {
   "cell_type": "code",
   "execution_count": 39,
   "metadata": {},
   "outputs": [
    {
     "data": {
      "text/html": [
       "<div>\n",
       "<style scoped>\n",
       "    .dataframe tbody tr th:only-of-type {\n",
       "        vertical-align: middle;\n",
       "    }\n",
       "\n",
       "    .dataframe tbody tr th {\n",
       "        vertical-align: top;\n",
       "    }\n",
       "\n",
       "    .dataframe thead th {\n",
       "        text-align: right;\n",
       "    }\n",
       "</style>\n",
       "<table border=\"1\" class=\"dataframe\">\n",
       "  <thead>\n",
       "    <tr style=\"text-align: right;\">\n",
       "      <th></th>\n",
       "      <th>month</th>\n",
       "      <th>passengers</th>\n",
       "    </tr>\n",
       "  </thead>\n",
       "  <tbody>\n",
       "    <tr>\n",
       "      <th>0</th>\n",
       "      <td>1949-01-01 00:00:00</td>\n",
       "      <td>112</td>\n",
       "    </tr>\n",
       "    <tr>\n",
       "      <th>1</th>\n",
       "      <td>1949-02-01 00:00:00</td>\n",
       "      <td>118</td>\n",
       "    </tr>\n",
       "    <tr>\n",
       "      <th>2</th>\n",
       "      <td>1949-03-01 00:00:00</td>\n",
       "      <td>132</td>\n",
       "    </tr>\n",
       "    <tr>\n",
       "      <th>3</th>\n",
       "      <td>1949-04-01 00:00:00</td>\n",
       "      <td>129</td>\n",
       "    </tr>\n",
       "    <tr>\n",
       "      <th>4</th>\n",
       "      <td>1949-05-01 00:00:00</td>\n",
       "      <td>121</td>\n",
       "    </tr>\n",
       "  </tbody>\n",
       "</table>\n",
       "</div>"
      ],
      "text/plain": [
       "                 month passengers\n",
       "0  1949-01-01 00:00:00        112\n",
       "1  1949-02-01 00:00:00        118\n",
       "2  1949-03-01 00:00:00        132\n",
       "3  1949-04-01 00:00:00        129\n",
       "4  1949-05-01 00:00:00        121"
      ]
     },
     "execution_count": 39,
     "metadata": {},
     "output_type": "execute_result"
    }
   ],
   "source": [
    "df_cut.head()"
   ]
  },
  {
   "cell_type": "code",
   "execution_count": 40,
   "metadata": {},
   "outputs": [
    {
     "data": {
      "text/plain": [
       "<AxesSubplot:>"
      ]
     },
     "execution_count": 40,
     "metadata": {},
     "output_type": "execute_result"
    },
    {
     "data": {
      "image/png": "[encoded data removed]",
      "text/plain": [
       "<Figure size 1152x648 with 1 Axes>"
      ]
     },
     "metadata": {
      "needs_background": "light"
     },
     "output_type": "display_data"
    }
   ],
   "source": [
    "#\n",
    "# plot number of passangers\n",
    "#\n",
    "# Task: plot the passenger data from the pandas dataframe (1 point)\n",
    "#\n",
    "\n",
    "df_cut['passengers'].plot()"
   ]
  },
  {
   "cell_type": "markdown",
   "metadata": {},
   "source": [
    "# Conventional methods\n",
    "\n",
    "There are many older methods to work with time series:\n",
    "\n",
    "- https://machinelearningmastery.com/time-series-trends-in-python/\n",
    "- https://towardsdatascience.com/predict-electricity-consumption-using-time-series-analysis-4650284e40aa\n",
    "\n",
    "\n",
    "The main purpose of these methods is the calculation and use of parameters such as **trend** and **seasonality**. We hope that our models can handle them without us having to explicitly deal with them.\n",
    "\n",
    "<img src=\"info.png\" align=\"left\"/> "
   ]
  },
  {
   "cell_type": "code",
   "execution_count": 41,
   "metadata": {},
   "outputs": [
    {
     "name": "stdout",
     "output_type": "stream",
     "text": [
      "[[112.]\n",
      " [118.]\n",
      " [132.]\n",
      " [129.]\n",
      " [121.]\n",
      " [135.]\n",
      " [148.]\n",
      " [148.]\n",
      " [136.]\n",
      " [119.]\n",
      " [104.]\n",
      " [118.]\n",
      " [115.]\n",
      " [126.]\n",
      " [141.]\n",
      " [135.]\n",
      " [125.]\n",
      " [149.]\n",
      " [170.]\n",
      " [170.]\n",
      " [158.]\n",
      " [133.]\n",
      " [114.]\n",
      " [140.]\n",
      " [145.]\n",
      " [150.]\n",
      " [178.]\n",
      " [163.]\n",
      " [172.]\n",
      " [178.]\n",
      " [199.]\n",
      " [199.]\n",
      " [184.]\n",
      " [162.]\n",
      " [146.]\n",
      " [166.]\n",
      " [171.]\n",
      " [180.]\n",
      " [193.]\n",
      " [181.]\n",
      " [183.]\n",
      " [218.]\n",
      " [230.]\n",
      " [242.]\n",
      " [209.]\n",
      " [191.]\n",
      " [172.]\n",
      " [194.]\n",
      " [196.]\n",
      " [196.]\n",
      " [236.]\n",
      " [235.]\n",
      " [229.]\n",
      " [243.]\n",
      " [264.]\n",
      " [272.]\n",
      " [237.]\n",
      " [211.]\n",
      " [180.]\n",
      " [201.]\n",
      " [204.]\n",
      " [188.]\n",
      " [235.]\n",
      " [227.]\n",
      " [234.]\n",
      " [264.]\n",
      " [302.]\n",
      " [293.]\n",
      " [259.]\n",
      " [229.]\n",
      " [203.]\n",
      " [229.]\n",
      " [242.]\n",
      " [233.]\n",
      " [267.]\n",
      " [269.]\n",
      " [270.]\n",
      " [315.]\n",
      " [364.]\n",
      " [347.]\n",
      " [312.]\n",
      " [274.]\n",
      " [237.]\n",
      " [278.]\n",
      " [284.]\n",
      " [277.]\n",
      " [317.]\n",
      " [313.]\n",
      " [318.]\n",
      " [374.]\n",
      " [413.]\n",
      " [405.]\n",
      " [355.]\n",
      " [306.]\n",
      " [271.]\n",
      " [306.]\n",
      " [315.]\n",
      " [301.]\n",
      " [356.]\n",
      " [348.]\n",
      " [355.]\n",
      " [422.]\n",
      " [465.]\n",
      " [467.]\n",
      " [404.]\n",
      " [347.]\n",
      " [305.]\n",
      " [336.]\n",
      " [340.]\n",
      " [318.]\n",
      " [362.]\n",
      " [348.]\n",
      " [363.]\n",
      " [435.]\n",
      " [491.]\n",
      " [505.]\n",
      " [404.]\n",
      " [359.]\n",
      " [310.]\n",
      " [337.]\n",
      " [360.]\n",
      " [342.]\n",
      " [406.]\n",
      " [396.]\n",
      " [420.]\n",
      " [472.]\n",
      " [548.]\n",
      " [559.]\n",
      " [463.]\n",
      " [407.]\n",
      " [362.]\n",
      " [405.]\n",
      " [417.]\n",
      " [391.]\n",
      " [419.]\n",
      " [461.]\n",
      " [472.]\n",
      " [535.]\n",
      " [622.]\n",
      " [606.]\n",
      " [508.]\n",
      " [461.]\n",
      " [390.]\n",
      " [432.]]\n"
     ]
    }
   ],
   "source": [
    "#\n",
    "# prepare data\n",
    "#\n",
    "x_data = df_cut['passengers'].to_numpy()\n",
    "x_data = x_data.astype('float32')\n",
    "x_data = np.reshape(x_data,(-1,1))\n",
    "print(x_data)"
   ]
  },
  {
   "cell_type": "code",
   "execution_count": 43,
   "metadata": {},
   "outputs": [
    {
     "data": {
      "text/plain": [
       "MinMaxScaler(feature_range=(0.0, 1.0))"
      ]
     },
     "execution_count": 43,
     "metadata": {},
     "output_type": "execute_result"
    }
   ],
   "source": [
    "#\n",
    "# Normalize the dataset\n",
    "#\n",
    "# Task: create a minmax scaler from sklearn to scale the data between 0 and 1 and store the trained scaler in\n",
    "# a python variable called scaler (2 points)\n",
    "#\n",
    "# MinMaxScaler(feature_range=(0.0, 1.0))\n",
    "scaler = MinMaxScaler(feature_range=(0.0, 1.0))\n",
    "scaler.fit(x_data)"
   ]
  },
  {
   "cell_type": "code",
   "execution_count": 44,
   "metadata": {},
   "outputs": [
    {
     "name": "stdout",
     "output_type": "stream",
     "text": [
      "[622.]\n"
     ]
    }
   ],
   "source": [
    "print(scaler.data_max_)"
   ]
  },
  {
   "cell_type": "code",
   "execution_count": 45,
   "metadata": {},
   "outputs": [
    {
     "name": "stdout",
     "output_type": "stream",
     "text": [
      "[[0.01544401]\n",
      " [0.02702703]\n",
      " [0.05405405]\n",
      " [0.04826255]\n",
      " [0.03281853]\n",
      " [0.05984557]\n",
      " [0.08494207]\n",
      " [0.08494207]\n",
      " [0.06177607]\n",
      " [0.02895753]\n",
      " [0.        ]\n",
      " [0.02702703]\n",
      " [0.02123553]\n",
      " [0.04247104]\n",
      " [0.07142857]\n",
      " [0.05984557]\n",
      " [0.04054055]\n",
      " [0.08687258]\n",
      " [0.12741312]\n",
      " [0.12741312]\n",
      " [0.10424709]\n",
      " [0.05598456]\n",
      " [0.01930502]\n",
      " [0.06949806]\n",
      " [0.07915059]\n",
      " [0.08880308]\n",
      " [0.14285713]\n",
      " [0.11389962]\n",
      " [0.13127413]\n",
      " [0.14285713]\n",
      " [0.18339768]\n",
      " [0.18339768]\n",
      " [0.15444016]\n",
      " [0.11196911]\n",
      " [0.08108109]\n",
      " [0.1196911 ]\n",
      " [0.12934363]\n",
      " [0.14671814]\n",
      " [0.17181468]\n",
      " [0.14864865]\n",
      " [0.15250966]\n",
      " [0.22007722]\n",
      " [0.24324325]\n",
      " [0.26640925]\n",
      " [0.2027027 ]\n",
      " [0.16795367]\n",
      " [0.13127413]\n",
      " [0.17374519]\n",
      " [0.17760617]\n",
      " [0.17760617]\n",
      " [0.25482625]\n",
      " [0.25289574]\n",
      " [0.24131274]\n",
      " [0.26833975]\n",
      " [0.3088803 ]\n",
      " [0.32432434]\n",
      " [0.25675675]\n",
      " [0.20656371]\n",
      " [0.14671814]\n",
      " [0.18725869]\n",
      " [0.19305018]\n",
      " [0.16216215]\n",
      " [0.25289574]\n",
      " [0.23745173]\n",
      " [0.25096524]\n",
      " [0.3088803 ]\n",
      " [0.38223937]\n",
      " [0.36486486]\n",
      " [0.2992278 ]\n",
      " [0.24131274]\n",
      " [0.1911197 ]\n",
      " [0.24131274]\n",
      " [0.26640925]\n",
      " [0.24903473]\n",
      " [0.31467178]\n",
      " [0.3185328 ]\n",
      " [0.32046333]\n",
      " [0.4073359 ]\n",
      " [0.5019305 ]\n",
      " [0.46911195]\n",
      " [0.40154442]\n",
      " [0.32818535]\n",
      " [0.25675675]\n",
      " [0.3359073 ]\n",
      " [0.34749034]\n",
      " [0.33397684]\n",
      " [0.41119692]\n",
      " [0.4034749 ]\n",
      " [0.4131274 ]\n",
      " [0.52123547]\n",
      " [0.5965251 ]\n",
      " [0.58108103]\n",
      " [0.484556  ]\n",
      " [0.3899614 ]\n",
      " [0.3223938 ]\n",
      " [0.3899614 ]\n",
      " [0.4073359 ]\n",
      " [0.3803089 ]\n",
      " [0.48648646]\n",
      " [0.47104248]\n",
      " [0.484556  ]\n",
      " [0.6138996 ]\n",
      " [0.6969112 ]\n",
      " [0.70077217]\n",
      " [0.57915056]\n",
      " [0.46911195]\n",
      " [0.38803086]\n",
      " [0.44787642]\n",
      " [0.45559844]\n",
      " [0.4131274 ]\n",
      " [0.4980695 ]\n",
      " [0.47104248]\n",
      " [0.49999997]\n",
      " [0.6389961 ]\n",
      " [0.7471043 ]\n",
      " [0.7741313 ]\n",
      " [0.57915056]\n",
      " [0.492278  ]\n",
      " [0.3976834 ]\n",
      " [0.44980696]\n",
      " [0.49420848]\n",
      " [0.45945945]\n",
      " [0.5830116 ]\n",
      " [0.5637065 ]\n",
      " [0.61003864]\n",
      " [0.71042466]\n",
      " [0.8571429 ]\n",
      " [0.8783784 ]\n",
      " [0.69305015]\n",
      " [0.5849421 ]\n",
      " [0.4980695 ]\n",
      " [0.58108103]\n",
      " [0.6042471 ]\n",
      " [0.554054  ]\n",
      " [0.60810804]\n",
      " [0.6891892 ]\n",
      " [0.71042466]\n",
      " [0.8320464 ]\n",
      " [1.        ]\n",
      " [0.96911204]\n",
      " [0.7799227 ]\n",
      " [0.6891892 ]\n",
      " [0.55212355]\n",
      " [0.6332046 ]]\n"
     ]
    }
   ],
   "source": [
    "#\n",
    "# actually scale the data\n",
    "#\n",
    "x_data = scaler.transform(x_data)\n",
    "print(x_data)"
   ]
  },
  {
   "cell_type": "code",
   "execution_count": 47,
   "metadata": {},
   "outputs": [
    {
     "name": "stdout",
     "output_type": "stream",
     "text": [
      "115 29\n"
     ]
    }
   ],
   "source": [
    "#\n",
    "# split into train and test sets with 80% training data\n",
    "#\n",
    "train_size = int(len(x_data) * 0.80)\n",
    "test_size = len(x_data) - train_size\n",
    "train, test = x_data[0:train_size,:], x_data[train_size:len(x_data),:]\n",
    "print(len(train), len(test))"
   ]
  },
  {
   "cell_type": "code",
   "execution_count": 48,
   "metadata": {},
   "outputs": [
    {
     "data": {
      "text/plain": [
       "[<matplotlib.lines.Line2D at 0x7f987796c320>]"
      ]
     },
     "execution_count": 48,
     "metadata": {},
     "output_type": "execute_result"
    },
    {
     "data": {
      "image/png": "[encoded data removed]",
      "text/plain": [
       "<Figure size 1152x648 with 1 Axes>"
      ]
     },
     "metadata": {
      "needs_background": "light"
     },
     "output_type": "display_data"
    }
   ],
   "source": [
    "#\n",
    "# plot scaled training data for check\n",
    "#\n",
    "plt.plot(train)"
   ]
  },
  {
   "cell_type": "markdown",
   "metadata": {},
   "source": [
    "# Create a training data set with sliding windows\n",
    "\n",
    "Sliding windows are created from a time series by dragging a window over the entire time series and copying the data in the window. More details here [https://towardsdatascience.com/ml-approaches-for-time-series-4d44722e48fe](https://towardsdatascience.com/ml-approaches-for-time-series-4d44722e48fe).\n",
    "\n",
    "<img src=\"info.png\" align=\"left\"/> "
   ]
  },
  {
   "cell_type": "code",
   "execution_count": 49,
   "metadata": {},
   "outputs": [],
   "source": [
    "#\n",
    "# create sliding windows with one label (y)\n",
    "#\n",
    "# Task: add comments for the details of this function (1 point)\n",
    "#\n",
    "def createSlidingWindowsWithLabel(dataset, window_length=1):\n",
    "    dataX, dataY = [], []\n",
    "    for i in range(len(dataset)-window_length-1):\n",
    "        a = dataset[ i:(i+window_length), 0]\n",
    "        dataX.append(a)\n",
    "        dataY.append(dataset[i + window_length, 0])\n",
    "    return np.array(dataX), np.array(dataY)"
   ]
  },
  {
   "cell_type": "code",
   "execution_count": 50,
   "metadata": {},
   "outputs": [],
   "source": [
    "#\n",
    "# apply sliding window function with window size (window_length)\n",
    "#\n",
    "window_length = 1\n",
    "trainX, trainY = createSlidingWindowsWithLabel(train, window_length)\n",
    "testX, testY = createSlidingWindowsWithLabel(test, window_length)"
   ]
  },
  {
   "cell_type": "code",
   "execution_count": 51,
   "metadata": {},
   "outputs": [],
   "source": [
    "# \n",
    "# reshape input to be [samples, time steps, features]\n",
    "#\n",
    "trainX = np.reshape(trainX, (trainX.shape[0], window_length, trainX.shape[1]))\n",
    "testX = np.reshape(testX, (testX.shape[0], window_length, testX.shape[1]))"
   ]
  },
  {
   "cell_type": "markdown",
   "metadata": {},
   "source": [
    "# Create an LSTM model"
   ]
  },
  {
   "cell_type": "code",
   "execution_count": 52,
   "metadata": {},
   "outputs": [],
   "source": [
    "# some hyperparameters\n",
    "epochs = 100\n",
    "batch_size = 4"
   ]
  },
  {
   "cell_type": "code",
   "execution_count": 53,
   "metadata": {},
   "outputs": [],
   "source": [
    "#\n",
    "# create and fit the LSTM network\n",
    "#\n",
    "def createLSTMModel():\n",
    "    model = Sequential()\n",
    "    model.add(LSTM(6, input_shape=(window_length, 1)))\n",
    "    model.add(Dense(1,activation='linear'))\n",
    "    model.compile(loss='mean_squared_error', optimizer='adam')\n",
    "    return model"
   ]
  },
  {
   "cell_type": "code",
   "execution_count": 54,
   "metadata": {},
   "outputs": [],
   "source": [
    "lstm_model = createLSTMModel()"
   ]
  },
  {
   "cell_type": "code",
   "execution_count": 55,
   "metadata": {},
   "outputs": [
    {
     "name": "stdout",
     "output_type": "stream",
     "text": [
      "Model: \"sequential_1\"\n",
      "_________________________________________________________________\n",
      "Layer (type)                 Output Shape              Param #   \n",
      "=================================================================\n",
      "lstm_1 (LSTM)                (None, 6)                 192       \n",
      "_________________________________________________________________\n",
      "dense_1 (Dense)              (None, 1)                 7         \n",
      "=================================================================\n",
      "Total params: 199\n",
      "Trainable params: 199\n",
      "Non-trainable params: 0\n",
      "_________________________________________________________________\n"
     ]
    }
   ],
   "source": [
    "lstm_model.summary()"
   ]
  },
  {
   "cell_type": "code",
   "execution_count": 56,
   "metadata": {
    "scrolled": true
   },
   "outputs": [
    {
     "name": "stdout",
     "output_type": "stream",
     "text": [
      "Train on 113 samples, validate on 27 samples\n",
      "Epoch 1/100\n",
      "113/113 [==============================] - 2s 18ms/step - loss: 0.0808 - val_loss: 0.3618\n",
      "Epoch 2/100\n",
      "113/113 [==============================] - 0s 869us/step - loss: 0.0552 - val_loss: 0.2900\n",
      "Epoch 3/100\n",
      "113/113 [==============================] - 0s 850us/step - loss: 0.0401 - val_loss: 0.2365\n",
      "Epoch 4/100\n",
      "113/113 [==============================] - 0s 891us/step - loss: 0.0309 - val_loss: 0.1962\n",
      "Epoch 5/100\n",
      "113/113 [==============================] - 0s 808us/step - loss: 0.0255 - val_loss: 0.1661\n",
      "Epoch 6/100\n",
      "113/113 [==============================] - 0s 865us/step - loss: 0.0226 - val_loss: 0.1437\n",
      "Epoch 7/100\n",
      "113/113 [==============================] - 0s 880us/step - loss: 0.0210 - val_loss: 0.1272\n",
      "Epoch 8/100\n",
      "113/113 [==============================] - 0s 830us/step - loss: 0.0202 - val_loss: 0.1150\n",
      "Epoch 9/100\n",
      "113/113 [==============================] - 0s 873us/step - loss: 0.0196 - val_loss: 0.1058\n",
      "Epoch 10/100\n",
      "113/113 [==============================] - 0s 778us/step - loss: 0.0192 - val_loss: 0.0986\n",
      "Epoch 11/100\n",
      "113/113 [==============================] - 0s 829us/step - loss: 0.0187 - val_loss: 0.0928\n",
      "Epoch 12/100\n",
      "113/113 [==============================] - 0s 821us/step - loss: 0.0182 - val_loss: 0.0879\n",
      "Epoch 13/100\n",
      "113/113 [==============================] - 0s 828us/step - loss: 0.0176 - val_loss: 0.0835\n",
      "Epoch 14/100\n",
      "113/113 [==============================] - 0s 849us/step - loss: 0.0171 - val_loss: 0.0795\n",
      "Epoch 15/100\n",
      "113/113 [==============================] - 0s 829us/step - loss: 0.0165 - val_loss: 0.0757\n",
      "Epoch 16/100\n",
      "113/113 [==============================] - 0s 860us/step - loss: 0.0159 - val_loss: 0.0722\n",
      "Epoch 17/100\n",
      "113/113 [==============================] - 0s 810us/step - loss: 0.0153 - val_loss: 0.0687\n",
      "Epoch 18/100\n",
      "113/113 [==============================] - 0s 837us/step - loss: 0.0147 - val_loss: 0.0654\n",
      "Epoch 19/100\n",
      "113/113 [==============================] - 0s 903us/step - loss: 0.0142 - val_loss: 0.0621\n",
      "Epoch 20/100\n",
      "113/113 [==============================] - 0s 857us/step - loss: 0.0136 - val_loss: 0.0590\n",
      "Epoch 21/100\n",
      "113/113 [==============================] - 0s 803us/step - loss: 0.0130 - val_loss: 0.0559\n",
      "Epoch 22/100\n",
      "113/113 [==============================] - 0s 834us/step - loss: 0.0125 - val_loss: 0.0529\n",
      "Epoch 23/100\n",
      "113/113 [==============================] - 0s 854us/step - loss: 0.0119 - val_loss: 0.0500\n",
      "Epoch 24/100\n",
      "113/113 [==============================] - 0s 1ms/step - loss: 0.0114 - val_loss: 0.0472\n",
      "Epoch 25/100\n",
      "113/113 [==============================] - 0s 948us/step - loss: 0.0109 - val_loss: 0.0445\n",
      "Epoch 26/100\n",
      "113/113 [==============================] - 0s 819us/step - loss: 0.0104 - val_loss: 0.0418\n",
      "Epoch 27/100\n",
      "113/113 [==============================] - 0s 864us/step - loss: 0.0099 - val_loss: 0.0393\n",
      "Epoch 28/100\n",
      "113/113 [==============================] - 0s 860us/step - loss: 0.0094 - val_loss: 0.0369\n",
      "Epoch 29/100\n",
      "113/113 [==============================] - 0s 890us/step - loss: 0.0089 - val_loss: 0.0346\n",
      "Epoch 30/100\n",
      "113/113 [==============================] - 0s 857us/step - loss: 0.0084 - val_loss: 0.0323\n",
      "Epoch 31/100\n",
      "113/113 [==============================] - 0s 826us/step - loss: 0.0080 - val_loss: 0.0302\n",
      "Epoch 32/100\n",
      "113/113 [==============================] - 0s 851us/step - loss: 0.0076 - val_loss: 0.0282\n",
      "Epoch 33/100\n",
      "113/113 [==============================] - 0s 829us/step - loss: 0.0072 - val_loss: 0.0264\n",
      "Epoch 34/100\n",
      "113/113 [==============================] - 0s 863us/step - loss: 0.0068 - val_loss: 0.0246\n",
      "Epoch 35/100\n",
      "113/113 [==============================] - 0s 926us/step - loss: 0.0064 - val_loss: 0.0229\n",
      "Epoch 36/100\n",
      "113/113 [==============================] - 0s 896us/step - loss: 0.0061 - val_loss: 0.0214\n",
      "Epoch 37/100\n",
      "113/113 [==============================] - 0s 889us/step - loss: 0.0057 - val_loss: 0.0200\n",
      "Epoch 38/100\n",
      "113/113 [==============================] - 0s 878us/step - loss: 0.0054 - val_loss: 0.0187\n",
      "Epoch 39/100\n",
      "113/113 [==============================] - 0s 916us/step - loss: 0.0051 - val_loss: 0.0175\n",
      "Epoch 40/100\n",
      "113/113 [==============================] - 0s 873us/step - loss: 0.0049 - val_loss: 0.0164\n",
      "Epoch 41/100\n",
      "113/113 [==============================] - 0s 849us/step - loss: 0.0046 - val_loss: 0.0154\n",
      "Epoch 42/100\n",
      "113/113 [==============================] - 0s 878us/step - loss: 0.0044 - val_loss: 0.0145\n",
      "Epoch 43/100\n",
      "113/113 [==============================] - 0s 956us/step - loss: 0.0042 - val_loss: 0.0137\n",
      "Epoch 44/100\n",
      "113/113 [==============================] - 0s 867us/step - loss: 0.0040 - val_loss: 0.0131\n",
      "Epoch 45/100\n",
      "113/113 [==============================] - 0s 843us/step - loss: 0.0038 - val_loss: 0.0125\n",
      "Epoch 46/100\n",
      "113/113 [==============================] - 0s 830us/step - loss: 0.0036 - val_loss: 0.0119\n",
      "Epoch 47/100\n",
      "113/113 [==============================] - 0s 865us/step - loss: 0.0035 - val_loss: 0.0115\n",
      "Epoch 48/100\n",
      "113/113 [==============================] - 0s 859us/step - loss: 0.0034 - val_loss: 0.0111\n",
      "Epoch 49/100\n",
      "113/113 [==============================] - 0s 900us/step - loss: 0.0032 - val_loss: 0.0108\n",
      "Epoch 50/100\n",
      "113/113 [==============================] - 0s 853us/step - loss: 0.0031 - val_loss: 0.0106\n",
      "Epoch 51/100\n",
      "113/113 [==============================] - 0s 903us/step - loss: 0.0031 - val_loss: 0.0104\n",
      "Epoch 52/100\n",
      "113/113 [==============================] - 0s 877us/step - loss: 0.0030 - val_loss: 0.0102\n",
      "Epoch 53/100\n",
      "113/113 [==============================] - 0s 920us/step - loss: 0.0029 - val_loss: 0.0101\n",
      "Epoch 54/100\n",
      "113/113 [==============================] - 0s 878us/step - loss: 0.0029 - val_loss: 0.0100\n",
      "Epoch 55/100\n",
      "113/113 [==============================] - 0s 784us/step - loss: 0.0028 - val_loss: 0.0100\n",
      "Epoch 56/100\n",
      "113/113 [==============================] - 0s 875us/step - loss: 0.0028 - val_loss: 0.0099\n",
      "Epoch 57/100\n",
      "113/113 [==============================] - 0s 923us/step - loss: 0.0027 - val_loss: 0.0099\n",
      "Epoch 58/100\n",
      "113/113 [==============================] - 0s 863us/step - loss: 0.0027 - val_loss: 0.0100\n",
      "Epoch 59/100\n",
      "113/113 [==============================] - 0s 896us/step - loss: 0.0027 - val_loss: 0.0100\n",
      "Epoch 60/100\n",
      "113/113 [==============================] - 0s 948us/step - loss: 0.0027 - val_loss: 0.0100\n",
      "Epoch 61/100\n",
      "113/113 [==============================] - 0s 855us/step - loss: 0.0027 - val_loss: 0.0100\n",
      "Epoch 62/100\n",
      "113/113 [==============================] - 0s 886us/step - loss: 0.0027 - val_loss: 0.0101\n",
      "Epoch 63/100\n",
      "113/113 [==============================] - 0s 869us/step - loss: 0.0027 - val_loss: 0.0101\n",
      "Epoch 64/100\n",
      "113/113 [==============================] - 0s 895us/step - loss: 0.0026 - val_loss: 0.0102\n",
      "Epoch 65/100\n",
      "113/113 [==============================] - 0s 898us/step - loss: 0.0026 - val_loss: 0.0102\n",
      "Epoch 66/100\n",
      "113/113 [==============================] - 0s 913us/step - loss: 0.0026 - val_loss: 0.0103\n",
      "Epoch 67/100\n",
      "113/113 [==============================] - 0s 890us/step - loss: 0.0026 - val_loss: 0.0103\n",
      "Epoch 68/100\n",
      "113/113 [==============================] - 0s 897us/step - loss: 0.0026 - val_loss: 0.0103\n",
      "Epoch 69/100\n",
      "113/113 [==============================] - 0s 877us/step - loss: 0.0026 - val_loss: 0.0104\n",
      "Epoch 70/100\n",
      "113/113 [==============================] - 0s 850us/step - loss: 0.0026 - val_loss: 0.0104\n",
      "Epoch 71/100\n",
      "113/113 [==============================] - 0s 838us/step - loss: 0.0026 - val_loss: 0.0105\n",
      "Epoch 72/100\n",
      "113/113 [==============================] - 0s 873us/step - loss: 0.0026 - val_loss: 0.0105\n",
      "Epoch 73/100\n",
      "113/113 [==============================] - 0s 907us/step - loss: 0.0026 - val_loss: 0.0105\n",
      "Epoch 74/100\n",
      "113/113 [==============================] - 0s 902us/step - loss: 0.0026 - val_loss: 0.0105\n",
      "Epoch 75/100\n",
      "113/113 [==============================] - 0s 995us/step - loss: 0.0026 - val_loss: 0.0105\n",
      "Epoch 76/100\n",
      "113/113 [==============================] - 0s 851us/step - loss: 0.0026 - val_loss: 0.0106\n",
      "Epoch 77/100\n",
      "113/113 [==============================] - 0s 830us/step - loss: 0.0026 - val_loss: 0.0106\n",
      "Epoch 78/100\n",
      "113/113 [==============================] - 0s 822us/step - loss: 0.0026 - val_loss: 0.0106\n",
      "Epoch 79/100\n"
     ]
    },
    {
     "name": "stdout",
     "output_type": "stream",
     "text": [
      "113/113 [==============================] - 0s 918us/step - loss: 0.0026 - val_loss: 0.0106\n",
      "Epoch 80/100\n",
      "113/113 [==============================] - 0s 777us/step - loss: 0.0026 - val_loss: 0.0106\n",
      "Epoch 81/100\n",
      "113/113 [==============================] - 0s 822us/step - loss: 0.0026 - val_loss: 0.0106\n",
      "Epoch 82/100\n",
      "113/113 [==============================] - 0s 839us/step - loss: 0.0026 - val_loss: 0.0106\n",
      "Epoch 83/100\n",
      "113/113 [==============================] - 0s 778us/step - loss: 0.0026 - val_loss: 0.0106\n",
      "Epoch 84/100\n",
      "113/113 [==============================] - 0s 761us/step - loss: 0.0026 - val_loss: 0.0106\n",
      "Epoch 85/100\n",
      "113/113 [==============================] - 0s 828us/step - loss: 0.0026 - val_loss: 0.0106\n",
      "Epoch 86/100\n",
      "113/113 [==============================] - 0s 915us/step - loss: 0.0026 - val_loss: 0.0106\n",
      "Epoch 87/100\n",
      "113/113 [==============================] - 0s 817us/step - loss: 0.0026 - val_loss: 0.0106\n",
      "Epoch 88/100\n",
      "113/113 [==============================] - 0s 837us/step - loss: 0.0026 - val_loss: 0.0106\n",
      "Epoch 89/100\n",
      "113/113 [==============================] - 0s 787us/step - loss: 0.0026 - val_loss: 0.0106\n",
      "Epoch 90/100\n",
      "113/113 [==============================] - 0s 812us/step - loss: 0.0026 - val_loss: 0.0106\n",
      "Epoch 91/100\n",
      "113/113 [==============================] - 0s 859us/step - loss: 0.0026 - val_loss: 0.0106\n",
      "Epoch 92/100\n",
      "113/113 [==============================] - 0s 782us/step - loss: 0.0026 - val_loss: 0.0106\n",
      "Epoch 93/100\n",
      "113/113 [==============================] - 0s 830us/step - loss: 0.0026 - val_loss: 0.0106\n",
      "Epoch 94/100\n",
      "113/113 [==============================] - 0s 806us/step - loss: 0.0026 - val_loss: 0.0106\n",
      "Epoch 95/100\n",
      "113/113 [==============================] - 0s 879us/step - loss: 0.0026 - val_loss: 0.0106\n",
      "Epoch 96/100\n",
      "113/113 [==============================] - 0s 839us/step - loss: 0.0026 - val_loss: 0.0106\n",
      "Epoch 97/100\n",
      "113/113 [==============================] - 0s 794us/step - loss: 0.0026 - val_loss: 0.0106\n",
      "Epoch 98/100\n",
      "113/113 [==============================] - 0s 826us/step - loss: 0.0026 - val_loss: 0.0106\n",
      "Epoch 99/100\n",
      "113/113 [==============================] - 0s 903us/step - loss: 0.0026 - val_loss: 0.0106\n",
      "Epoch 100/100\n",
      "113/113 [==============================] - 0s 795us/step - loss: 0.0026 - val_loss: 0.0106\n"
     ]
    }
   ],
   "source": [
    "history = lstm_model.fit(trainX, trainY, epochs=epochs, batch_size=batch_size, verbose=1, validation_data=(testX, testY), shuffle=False)"
   ]
  },
  {
   "cell_type": "code",
   "execution_count": 57,
   "metadata": {},
   "outputs": [
    {
     "data": {
      "image/png": "[encoded data removed]",
      "text/plain": [
       "<Figure size 1152x648 with 1 Axes>"
      ]
     },
     "metadata": {
      "needs_background": "light"
     },
     "output_type": "display_data"
    }
   ],
   "source": [
    "# plot history\n",
    "plt.plot(history.history['loss'], label='train')\n",
    "plt.plot(history.history['val_loss'], label='test')\n",
    "plt.legend()\n",
    "plt.show()"
   ]
  },
  {
   "cell_type": "code",
   "execution_count": 58,
   "metadata": {},
   "outputs": [],
   "source": [
    "#\n",
    "# Estimate values for train and test data\n",
    "#\n",
    "trainPredict = lstm_model.predict(trainX)\n",
    "testPredict = lstm_model.predict(testX)"
   ]
  },
  {
   "cell_type": "code",
   "execution_count": 59,
   "metadata": {},
   "outputs": [],
   "source": [
    "#\n",
    "# Inverse transformation of estimations (scaler)\n",
    "#\n",
    "trainPredicti = scaler.inverse_transform(trainPredict)\n",
    "testPredicti = scaler.inverse_transform(testPredict)\n",
    "\n",
    "trainYi = scaler.inverse_transform([trainY])\n",
    "testYi = scaler.inverse_transform([testY])"
   ]
  },
  {
   "cell_type": "code",
   "execution_count": 60,
   "metadata": {},
   "outputs": [
    {
     "data": {
      "image/png": "[encoded data removed]",
      "text/plain": [
       "<Figure size 1152x648 with 1 Axes>"
      ]
     },
     "metadata": {
      "needs_background": "light"
     },
     "output_type": "display_data"
    }
   ],
   "source": [
    "#\n",
    "# Plot estimations\n",
    "#\n",
    "plt.plot(testYi[0,0:])\n",
    "plt.plot(testPredicti[1:,0])\n",
    "plt.show()"
   ]
  },
  {
   "cell_type": "code",
   "execution_count": null,
   "metadata": {},
   "outputs": [],
   "source": [
    "#\n",
    "# calculate root mean squared error\n",
    "#\n",
    "# Task: calculate the root mean squared error between the test labels and the prediction (1 point)\n",
    "# Hint: labels are in testYi[0,0:-1]\n",
    "#       predictions are in testPredicti[1:,0]\n",
    "\n",
    "trainScore = ... #math.sqrt\n",
    "print('train loss: %.3f RMSE' % (trainScore))\n",
    "testScore = ...\n",
    "print('test loss: %.3f RMSE' % (testScore))"
   ]
  },
  {
   "cell_type": "markdown",
   "metadata": {},
   "source": [
    "# Plot complete timeline"
   ]
  },
  {
   "cell_type": "code",
   "execution_count": 61,
   "metadata": {},
   "outputs": [
    {
     "ename": "NameError",
     "evalue": "name 'look_back' is not defined",
     "output_type": "error",
     "traceback": [
      "\u001b[0;31m---------------------------------------------------------------------------\u001b[0m",
      "\u001b[0;31mNameError\u001b[0m                                 Traceback (most recent call last)",
      "\u001b[0;32m<ipython-input-61-d8b298508e2e>\u001b[0m in \u001b[0;36m<module>\u001b[0;34m\u001b[0m\n\u001b[1;32m      7\u001b[0m \u001b[0mtestPredictPlot\u001b[0m \u001b[0;34m=\u001b[0m \u001b[0mnp\u001b[0m\u001b[0;34m.\u001b[0m\u001b[0mempty_like\u001b[0m\u001b[0;34m(\u001b[0m\u001b[0mx_data\u001b[0m\u001b[0;34m)\u001b[0m\u001b[0;34m\u001b[0m\u001b[0;34m\u001b[0m\u001b[0m\n\u001b[1;32m      8\u001b[0m \u001b[0mtestPredictPlot\u001b[0m\u001b[0;34m[\u001b[0m\u001b[0;34m:\u001b[0m\u001b[0;34m,\u001b[0m \u001b[0;34m:\u001b[0m\u001b[0;34m]\u001b[0m \u001b[0;34m=\u001b[0m \u001b[0mnp\u001b[0m\u001b[0;34m.\u001b[0m\u001b[0mnan\u001b[0m\u001b[0;34m\u001b[0m\u001b[0;34m\u001b[0m\u001b[0m\n\u001b[0;32m----> 9\u001b[0;31m \u001b[0mtestPredictPlot\u001b[0m\u001b[0;34m[\u001b[0m\u001b[0mlen\u001b[0m\u001b[0;34m(\u001b[0m\u001b[0mtrainPredicti\u001b[0m\u001b[0;34m)\u001b[0m\u001b[0;34m+\u001b[0m\u001b[0;34m(\u001b[0m\u001b[0mlook_back\u001b[0m\u001b[0;34m*\u001b[0m\u001b[0;36m2\u001b[0m\u001b[0;34m)\u001b[0m\u001b[0;34m:\u001b[0m\u001b[0mlen\u001b[0m\u001b[0;34m(\u001b[0m\u001b[0mx_data\u001b[0m\u001b[0;34m)\u001b[0m\u001b[0;34m-\u001b[0m\u001b[0;36m2\u001b[0m\u001b[0;34m,\u001b[0m \u001b[0;34m:\u001b[0m\u001b[0;34m]\u001b[0m \u001b[0;34m=\u001b[0m \u001b[0mtestPredicti\u001b[0m\u001b[0;34m\u001b[0m\u001b[0;34m\u001b[0m\u001b[0m\n\u001b[0m",
      "\u001b[0;31mNameError\u001b[0m: name 'look_back' is not defined"
     ]
    }
   ],
   "source": [
    "# shift train predictions for plotting\n",
    "trainPredictPlot = np.empty_like(x_data)\n",
    "trainPredictPlot[:, :] = np.nan\n",
    "trainPredictPlot[:len(trainPredicti)+0, :] = trainPredicti\n",
    "\n",
    "# shift test predictions for plotting\n",
    "testPredictPlot = np.empty_like(x_data)\n",
    "testPredictPlot[:, :] = np.nan\n",
    "testPredictPlot[len(trainPredicti)+(look_back*2):len(x_data)-2, :] = testPredicti"
   ]
  },
  {
   "cell_type": "code",
   "execution_count": null,
   "metadata": {},
   "outputs": [],
   "source": [
    "# plot baseline and predictions\n",
    "plt.plot(scaler.inverse_transform(x_data), color='grey')\n",
    "plt.plot(trainPredictPlot)\n",
    "plt.plot(testPredictPlot)\n",
    "plt.show()"
   ]
  },
  {
   "cell_type": "markdown",
   "metadata": {},
   "source": [
    "# Experiment with different window and model sizes (3 points)\n",
    "\n",
    "**change request**: The customer wants a better prediction quality. Conduct an experiment with a different window_length. Another option is to increase the capacity of the model. Compare the resulting RMSE values. \n",
    "Hopefully, this increases the quality of the prediction."
   ]
  },
  {
   "cell_type": "code",
   "execution_count": null,
   "metadata": {},
   "outputs": [],
   "source": [
    "#\n",
    "# apply sliding window function with window size (window_length)\n",
    "#\n",
    "window_length = ?\n",
    "trainX, trainY = createSlidingWindowsWithLabel(train, window_length)\n",
    "testX, testY = createSlidingWindowsWithLabel(test, window_length)"
   ]
  },
  {
   "cell_type": "code",
   "execution_count": null,
   "metadata": {},
   "outputs": [],
   "source": [
    "# check shape of windows\n",
    "print(trainX.shape)"
   ]
  },
  {
   "cell_type": "code",
   "execution_count": null,
   "metadata": {},
   "outputs": [],
   "source": [
    "print(trainX)"
   ]
  },
  {
   "cell_type": "code",
   "execution_count": null,
   "metadata": {},
   "outputs": [],
   "source": []
  },
  {
   "cell_type": "code",
   "execution_count": null,
   "metadata": {},
   "outputs": [],
   "source": []
  }
 ],
 "metadata": {
  "kernelspec": {
   "display_name": "Python 3",
   "language": "python",
   "name": "python3"
  },
  "language_info": {
   "codemirror_mode": {
    "name": "ipython",
    "version": 3
   },
   "file_extension": ".py",
   "mimetype": "text/x-python",
   "name": "python",
   "nbconvert_exporter": "python",
   "pygments_lexer": "ipython3",
   "version": "3.6.11"
  }
 },
 "nbformat": 4,
 "nbformat_minor": 4
}
