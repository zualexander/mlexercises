{
 "cells": [
  {
   "cell_type": "markdown",
   "metadata": {},
   "source": [
    "<img src=\"header.png\" align=\"left\"/>"
   ]
  },
  {
   "cell_type": "markdown",
   "metadata": {},
   "source": [
    "# Exercise Classification of IRIS flowers (10 points)\n",
    "\n",
    "The goal of the exercise is to estimate the species of an iris flower using 4 features. For this we use \n",
    "different classification methods.\n",
    "We use a data set by Edgar Anderson or R. Fischer from 1936 [1][2]. The dataset contains 150 samples, each with\n",
    "4 measured values petal length, petal width, sepal length, sepal width as features and the correct class as label.  \n",
    "\n",
    "```\n",
    "[1] Edgar Anderson (1936). \"The species problem in Iris\". Annals of the Missouri Botanical Garden. 23 (3): 457–509. doi:10.2307/2394164. JSTOR 2394164.\n",
    "[2] R. A. Fisher, “The use of multiple measurements in taxonomic problems,” Ann. Eugen., vol. 7, no. 2, pp. 179–188, 1936.\n",
    "```\n",
    "\n",
    "**NOTE**\n",
    "\n",
    "Document your results by simply adding a markdown cell or a python cell (as comment) and writing your statements into this cell. For some tasks the result cell is already available.\n"
   ]
  },
  {
   "cell_type": "code",
   "execution_count": 1,
   "metadata": {},
   "outputs": [],
   "source": [
    "import pandas\n",
    "import numpy as np\n",
    "from pandas.plotting import scatter_matrix\n",
    "import matplotlib.pyplot as plt\n",
    "import seaborn as sns\n",
    "\n",
    "from sklearn import model_selection\n",
    "from sklearn.metrics import classification_report\n",
    "from sklearn.metrics import confusion_matrix\n",
    "from sklearn.metrics import accuracy_score\n",
    "from sklearn.linear_model import LogisticRegression\n",
    "from sklearn.tree import DecisionTreeClassifier\n",
    "from sklearn.neighbors import KNeighborsClassifier\n",
    "from sklearn.discriminant_analysis import LinearDiscriminantAnalysis\n",
    "from sklearn.naive_bayes import GaussianNB\n",
    "from sklearn.svm import SVC"
   ]
  },
  {
   "cell_type": "code",
   "execution_count": 2,
   "metadata": {},
   "outputs": [],
   "source": [
    "from warnings import simplefilter\n",
    "# ignore all future warnings\n",
    "simplefilter(action='ignore', category=FutureWarning)\n",
    "simplefilter(action='ignore', category=Warning)\n",
    "plt.rcParams['figure.figsize'] = [16, 9]"
   ]
  },
  {
   "cell_type": "markdown",
   "metadata": {},
   "source": [
    "# Loading and checking data"
   ]
  },
  {
   "cell_type": "code",
   "execution_count": 3,
   "metadata": {},
   "outputs": [],
   "source": [
    "# \n",
    "# Load data\n",
    "# \n",
    "names = ['sepal-length', 'sepal-width', 'petal-length', 'petal-width', 'class']\n",
    "df = pandas.read_csv('data/iris/iris.csv', names=names)"
   ]
  },
  {
   "cell_type": "code",
   "execution_count": 4,
   "metadata": {},
   "outputs": [
    {
     "name": "stdout",
     "output_type": "stream",
     "text": [
      "   sepal-length  sepal-width  petal-length  petal-width        class\n",
      "0           5.1          3.5           1.4          0.2  Iris-setosa\n",
      "1           4.9          3.0           1.4          0.2  Iris-setosa\n",
      "2           4.7          3.2           1.3          0.2  Iris-setosa\n",
      "3           4.6          3.1           1.5          0.2  Iris-setosa\n",
      "4           5.0          3.6           1.4          0.2  Iris-setosa\n"
     ]
    }
   ],
   "source": [
    "#\n",
    "# Basic data check\n",
    "#\n",
    "print(df.head())"
   ]
  },
  {
   "cell_type": "code",
   "execution_count": 5,
   "metadata": {},
   "outputs": [
    {
     "data": {
      "text/plain": [
       "class\n",
       "Iris-setosa        50\n",
       "Iris-versicolor    50\n",
       "Iris-virginica     50\n",
       "dtype: int64"
      ]
     },
     "execution_count": 5,
     "metadata": {},
     "output_type": "execute_result"
    }
   ],
   "source": [
    "#\n",
    "# Check the distribution of the classes\n",
    "# Task: implement your own code to print the distribution of classes in this dataset (1 point)\n",
    "#\n",
    "\n",
    "# your code here\n",
    "df.groupby('class').size()"
   ]
  },
  {
   "cell_type": "code",
   "execution_count": 6,
   "metadata": {},
   "outputs": [
    {
     "name": "stdout",
     "output_type": "stream",
     "text": [
      "{'Iris-setosa': 31, 'Iris-versicolor': 37, 'Iris-virginica': 37}\n",
      "{'Iris-setosa': 35, 'Iris-versicolor': 35, 'Iris-virginica': 35}\n"
     ]
    }
   ],
   "source": [
    "# \n",
    "# Separate the dataset into training data and test data\n",
    "#\n",
    "array = df.values\n",
    "X = array[:,0:4]\n",
    "Y = array[:,4]\n",
    "validation_size = 0.40\n",
    "X_train, X_validation, Y_train, Y_validation = model_selection.train_test_split(X, Y, test_size=validation_size, random_state=42)\n",
    "\n",
    "# Task: search the internet for the description of the train_test_split function (2 points)\n",
    "# and describe the parameters\n",
    "# change the split to 70% training data and 30% test data\n",
    "validation_size = 0.30\n",
    "\n",
    "\n",
    "X_train, X_validation, Y_train, Y_validation = model_selection.train_test_split(X, Y, \n",
    "                                                                                test_size=validation_size,    \n",
    "                                                                                random_state=42)\n",
    "\n",
    "unique, counts = np.unique(Y_train, return_counts=True)\n",
    "print(dict(zip(unique, counts)))\n",
    "\n",
    "X_train, X_validation, Y_train, Y_validation = model_selection.train_test_split(X, Y, \n",
    "                                                                                test_size=validation_size, \n",
    "                                                                                random_state=42,\n",
    "                                                                                stratify=Y)\n",
    "unique, counts = np.unique(Y_train, return_counts=True)\n",
    "print(dict(zip(unique, counts)))\n",
    "\n",
    "\n"
   ]
  },
  {
   "cell_type": "markdown",
   "metadata": {},
   "source": [
    "### Antwort:\n",
    "#### methode: \n",
    "splitet den Datensatz, je nach Angabe der prozentuellen Verteilung in ein TestdatenSet und ein TrainingsSet, jeweils mit den features ohne label ( X ) und dazu die labels separat ( Y ).\n",
    "die auswahl welche datenpunkte zu training oder validation kommen wird anhand einiger parameter beeinflusst. z.B.:\n",
    "* random_state: ist ein seed wert der benutz wird um die Daten zu shuffeln vor dem split -> wenn int werte, dann immer gleiche Ergebnisse.\n",
    "* test_size: gibt an wie viel prozent von den datensätzen im validierungsdatensatz sein sollen, der rest kommt in den trainigsdatensatz\n",
    "* stratify: ist ein zusätzlicher parameter der die class-werte definiert. mittels denen wird dann geschaut dass die verteilung dieser klassen dann gleich ist "
   ]
  },
  {
   "cell_type": "code",
   "execution_count": 7,
   "metadata": {},
   "outputs": [
    {
     "data": {
      "text/plain": [
       "KNeighborsClassifier(metric='euclidean')"
      ]
     },
     "execution_count": 7,
     "metadata": {},
     "output_type": "execute_result"
    }
   ],
   "source": [
    "#\n",
    "# Train a simple classifier using the kNN method\n",
    "#\n",
    "knn_classifier = KNeighborsClassifier(n_neighbors=5,metric='euclidean')\n",
    "knn_classifier.fit(X_train, Y_train)"
   ]
  },
  {
   "cell_type": "code",
   "execution_count": 8,
   "metadata": {},
   "outputs": [
    {
     "name": "stdout",
     "output_type": "stream",
     "text": [
      "Accuracy: 0.9777777777777777\n"
     ]
    }
   ],
   "source": [
    "#\n",
    "# Calculate the accuracy of the trained model\n",
    "#\n",
    "predictions = knn_classifier.predict(X_validation)\n",
    "print('Accuracy: {}'.format(accuracy_score(Y_validation, predictions)))\n",
    "#\n",
    "# Task: search the internet for a concise description of the accuracy quality measure. (1 point)"
   ]
  },
  {
   "cell_type": "markdown",
   "metadata": {},
   "source": [
    "### Antwort:\n",
    "accuracy wird als indikator genommen wie sicher sich ein ML model ist, dass das Ergebnis dass es liefert auch wirklich das gesuchte Ergebnis ist. fast immer in Prozentwert angegeben.\n",
    "\n",
    "je nachdem welche methode ( classification, clustering, regression ) ist die methodik um diese nummer zu berechnen im hintergrund allerdings eine andere.\n",
    "siehe: https://scikit-learn.org/stable/modules/model_evaluation.html#common-cases-predefined-values"
   ]
  },
  {
   "cell_type": "code",
   "execution_count": 9,
   "metadata": {},
   "outputs": [
    {
     "name": "stdout",
     "output_type": "stream",
     "text": [
      "[[15  0  0]\n",
      " [ 0 15  0]\n",
      " [ 0  1 14]]\n"
     ]
    }
   ],
   "source": [
    "#\n",
    "# Print a confusion matrix\n",
    "#\n",
    "# Task: search the internet for a description of the confusion matrix and write it down here. (1 point)\n",
    "\n",
    "print(confusion_matrix(Y_validation, predictions))"
   ]
  },
  {
   "cell_type": "markdown",
   "metadata": {},
   "source": [
    "### Antwort: \n",
    "auch genannt Error-Matrix. gibt an welcher Datensatz als welcher gelabeld wurde ( die Diagonale sind alle richtig vorhergesagten werte ).\n",
    "linke Seite ist das Datensatz Ergebnis, auf der x-Achse wird dann eingetragen als welchen Datensatz das Model es erkannt hat. in diesem Fall ein recht gutes ergebnis mit nur einem Fehler."
   ]
  },
  {
   "cell_type": "markdown",
   "metadata": {},
   "source": [
    "# Test of a second method"
   ]
  },
  {
   "cell_type": "code",
   "execution_count": 55,
   "metadata": {},
   "outputs": [
    {
     "data": {
      "text/plain": [
       "DecisionTreeClassifier(max_depth=6)"
      ]
     },
     "execution_count": 55,
     "metadata": {},
     "output_type": "execute_result"
    }
   ],
   "source": [
    "#\n",
    "# Train another classifier using the decision tree method\n",
    "# \n",
    "# Task: implement a decision tree classifier for the IRIS dataset (2 points)\n",
    "# test with accuracy_score using Y_validation\n",
    "#\n",
    "\n",
    "# your code here\n",
    "tree_classifier = DecisionTreeClassifier(max_depth=6) # max_depth 6 erzielt ein besseres ergebnis als auto\n",
    "tree_classifier.fit(X_train, Y_train)"
   ]
  },
  {
   "cell_type": "code",
   "execution_count": 56,
   "metadata": {},
   "outputs": [
    {
     "name": "stdout",
     "output_type": "stream",
     "text": [
      "Accuracy: 0.9777777777777777\n"
     ]
    }
   ],
   "source": [
    "#\n",
    "# Calculate accuracy\n",
    "#\n",
    "predictions = tree_classifier.predict(X_validation)\n",
    "print('Accuracy: {}'.format(accuracy_score(Y_validation, predictions)))"
   ]
  },
  {
   "cell_type": "markdown",
   "metadata": {},
   "source": [
    "# Testing multiple methods at the same time"
   ]
  },
  {
   "cell_type": "code",
   "execution_count": 12,
   "metadata": {},
   "outputs": [
    {
     "name": "stdout",
     "output_type": "stream",
     "text": [
      "Modell KNN: accuracy 0.973 (deviation 0.025)\n",
      "Modell CART: accuracy 0.953 (deviation 0.027)\n",
      "Modell NB: accuracy 0.960 (deviation 0.025)\n",
      "Modell SVM: accuracy 0.973 (deviation 0.025)\n"
     ]
    }
   ],
   "source": [
    "scoring = 'accuracy'\n",
    "\n",
    "models = []\n",
    "models.append(('KNN', KNeighborsClassifier(n_neighbors=5)))\n",
    "models.append(('CART', DecisionTreeClassifier()))\n",
    "models.append(('NB', GaussianNB()))\n",
    "models.append(('SVM', SVC(gamma='auto')))\n",
    "\n",
    "results = []\n",
    "names = []\n",
    "for name, model in models:\n",
    "    kfold = model_selection.KFold(n_splits=5, random_state=42,shuffle=True)\n",
    "    cv_results = model_selection.cross_val_score(model, X, Y, cv=kfold, scoring=scoring)\n",
    "    results.append(cv_results)\n",
    "    names.append(name)\n",
    "    print(\"Modell {}: accuracy {:.3f} (deviation {:.3f})\".format(name, cv_results.mean(), cv_results.std()))"
   ]
  },
  {
   "cell_type": "code",
   "execution_count": 13,
   "metadata": {},
   "outputs": [
    {
     "data": {
      "image/png": "[encoded data removed]",
      "text/plain": [
       "<Figure size 1152x648 with 1 Axes>"
      ]
     },
     "metadata": {
      "needs_background": "light"
     },
     "output_type": "display_data"
    }
   ],
   "source": [
    "# Compare Algorithms\n",
    "fig = plt.figure()\n",
    "fig.suptitle('Algorithm Comparison')\n",
    "ax = fig.add_subplot(111)\n",
    "positions = range(len(names))\n",
    "ax.set_xticks(np.arange(0, len(names)))\n",
    "plt.violinplot(results,positions)\n",
    "ax.set_xticklabels(names)\n",
    "plt.show()"
   ]
  },
  {
   "cell_type": "markdown",
   "metadata": {},
   "source": [
    "# Optimizing one method with hyperparameter optimization\n",
    "\n",
    "The idea of hyperparameter optimization is to test several variations of hyperparameters and select those parameters which produce the best quality (accuracy)."
   ]
  },
  {
   "cell_type": "code",
   "execution_count": 14,
   "metadata": {},
   "outputs": [],
   "source": [
    "# Task: implement a hyperparameter search for the hyperparameter n_neighbors \n",
    "# of the KNeighborsClassifier and document the best result. (3 points)"
   ]
  },
  {
   "cell_type": "code",
   "execution_count": 15,
   "metadata": {},
   "outputs": [],
   "source": [
    "scoring = 'accuracy'"
   ]
  },
  {
   "cell_type": "code",
   "execution_count": 22,
   "metadata": {},
   "outputs": [
    {
     "name": "stdout",
     "output_type": "stream",
     "text": [
      "n_neighbors 1: accuracy 0.960 (deviation 0.033)\n",
      "n_neighbors 3: accuracy 0.967 (deviation 0.021)\n",
      "n_neighbors 5: accuracy 0.973 (deviation 0.025)\n",
      "n_neighbors 7: accuracy 0.973 (deviation 0.013)\n",
      "n_neighbors 9: accuracy 0.967 (deviation 0.021)\n",
      "n_neighbors 11: accuracy 0.973 (deviation 0.013)\n",
      "n_neighbors 13: accuracy 0.980 (deviation 0.016)\n",
      "n_neighbors 15: accuracy 0.973 (deviation 0.025)\n",
      "n_neighbors 22: accuracy 0.967 (deviation 0.037)\n",
      "n_neighbors 55: accuracy 0.920 (deviation 0.050)\n",
      "n_neighbors 66: accuracy 0.893 (deviation 0.065)\n",
      "n_neighbors 67: accuracy 0.900 (deviation 0.056)\n"
     ]
    }
   ],
   "source": [
    "results = []\n",
    "parameters = [1, 3, 5, 7, 9, 11, 13, 15, 22, 55, 66, 67]\n",
    "\n",
    "# your code here\n",
    "for k_param in parameters:\n",
    "    knn = KNeighborsClassifier(n_neighbors = k_param)\n",
    "    kfold = model_selection.KFold(n_splits=5, random_state=42,shuffle=True)\n",
    "    cv_results = model_selection.cross_val_score(knn, X, Y, cv=kfold, scoring=scoring)\n",
    "    results.append(cv_results)\n",
    "    print(\"n_neighbors {}: accuracy {:.3f} (deviation {:.3f})\".format(k_param, cv_results.mean(), cv_results.std()))\n",
    "    knn.fit(X_train, Y_train)\n",
    "    predictions = knn.predict(X_validation)\n",
    "    #print(confusion_matrix(Y_validation, predictions))\n"
   ]
  },
  {
   "cell_type": "code",
   "execution_count": 23,
   "metadata": {
    "scrolled": true
   },
   "outputs": [
    {
     "data": {
      "image/png": "[encoded data removed]",
      "text/plain": [
       "<Figure size 1152x648 with 1 Axes>"
      ]
     },
     "metadata": {
      "needs_background": "light"
     },
     "output_type": "display_data"
    }
   ],
   "source": [
    "# Compare Algorithms\n",
    "fig = plt.figure()\n",
    "fig.suptitle('n_neighbors Comparison')\n",
    "ax = fig.add_subplot(111)\n",
    "positions = range(len(parameters))\n",
    "ax.set_xticks(np.arange(0, len(parameters)))\n",
    "plt.violinplot(results,positions)\n",
    "ax.set_xticklabels(parameters)\n",
    "plt.show()"
   ]
  },
  {
   "cell_type": "markdown",
   "metadata": {},
   "source": [
    "### Antwort: \n",
    "meiner Meinung nach würden sich 7, 11, 13 dafür anbieten, weil sie die größte accuracy, und kleinste deviation haben."
   ]
  },
  {
   "cell_type": "code",
   "execution_count": null,
   "metadata": {},
   "outputs": [],
   "source": []
  }
 ],
 "metadata": {
  "kernelspec": {
   "display_name": "Python 3",
   "language": "python",
   "name": "python3"
  },
  "language_info": {
   "codemirror_mode": {
    "name": "ipython",
    "version": 3
   },
   "file_extension": ".py",
   "mimetype": "text/x-python",
   "name": "python",
   "nbconvert_exporter": "python",
   "pygments_lexer": "ipython3",
   "version": "3.8.3"
  }
 },
 "nbformat": 4,
 "nbformat_minor": 4
}
